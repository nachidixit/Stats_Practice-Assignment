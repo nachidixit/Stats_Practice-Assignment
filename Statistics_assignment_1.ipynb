{
 "cells": [
  {
   "cell_type": "code",
   "execution_count": 1,
   "id": "7a947f05",
   "metadata": {},
   "outputs": [],
   "source": [
    "import os\n",
    "import numpy as np\n",
    "import pandas as pd\n",
    "import seaborn as sns\n",
    "import matplotlib.pyplot as plt\n"
   ]
  },
  {
   "cell_type": "markdown",
   "id": "3c2f9ae8",
   "metadata": {},
   "source": [
    "### Q1. The experiment shows that the average monthly electricity consumption for a house is 458 units. The study records a total of 3206 units of electricity consumption. Calculate the duration of the experiment. Also, identify the criteria to calculate the median consumption.\n",
    "\n"
   ]
  },
  {
   "cell_type": "code",
   "execution_count": 2,
   "id": "b009a0c3",
   "metadata": {},
   "outputs": [
    {
     "name": "stdout",
     "output_type": "stream",
     "text": [
      "Duration of the Experiment:  7.0\n",
      "Median rank number is:  4.0\n"
     ]
    }
   ],
   "source": [
    "x_bar = 458\n",
    "total_cons = 3206\n",
    "duration = (total_cons/x_bar)\n",
    "print(\"Duration of the Experiment: \",duration )\n",
    "if duration%2 != 0:\n",
    "    median = (duration+1)/2\n",
    "    print('Median rank number is: ', median)\n",
    "else:\n",
    "    median = duration/2\n",
    "    print('Median rank number is: ', median)"
   ]
  },
  {
   "cell_type": "markdown",
   "id": "cdf6d5da",
   "metadata": {},
   "source": [
    "### Q2. Find the wage above which 65% of wages would lie.\n",
    "- Consider the wages (in dollars) of 15 workers as given below:\n",
    "- wage = [247, 228, 352, 298, 345, 312, 300, 285, 246, 352, 297, 304, 265, 325, 276]\n",
    "\n"
   ]
  },
  {
   "cell_type": "code",
   "execution_count": 3,
   "id": "57fc23ac",
   "metadata": {},
   "outputs": [
    {
     "name": "stdout",
     "output_type": "stream",
     "text": [
      "Lie wages are above:  284.1\n"
     ]
    }
   ],
   "source": [
    "wage = pd.Series([247, 228, 352, 298, 345, 312, 300, 285, 246, 352, 297, 304, 265, 325, 276])\n",
    "wage_above_lie = wage.quantile(0.35)\n",
    "print('Lie wages are above: ',wage_above_lie)"
   ]
  },
  {
   "cell_type": "markdown",
   "id": "190f884c",
   "metadata": {},
   "source": [
    "### Q3. Jimmy requires 38 minutes on average, with a standard deviation of 5 minutes to distribute the newspapers. On the other hand, Richard requires 27 minutes on average, with a standard deviation of 6 minutes to distribute the newspapers. Identify most consistent distributor.\n",
    "\n"
   ]
  },
  {
   "cell_type": "code",
   "execution_count": 4,
   "id": "b667fa72",
   "metadata": {},
   "outputs": [
    {
     "name": "stdout",
     "output_type": "stream",
     "text": [
      "The covariance of jimmy is  13.157894736842104 which is less than richrad. Hence, Jimmy is consistent distrbutor.\n"
     ]
    }
   ],
   "source": [
    "jimmy_avg = 38\n",
    "std_jim = 5\n",
    "richard_avg = 27\n",
    "std_rich = 6\n",
    "\n",
    "# calculate covariance of both distributor\n",
    "covar_jim = (std_jim/jimmy_avg)*100\n",
    "covar_rich = (std_rich/richard_avg)*100\n",
    "\n",
    "if covar_jim < covar_rich:\n",
    "    print(\"The covariance of jimmy is \",covar_jim,\"which is less than richrad. Hence, Jimmy is consistent distrbutor.\")\n",
    "else:\n",
    "     print(\"The covariance of richard is \",covar_rich,\"which is less than jimmy. Hence, richard is consistent distrbutor.\")"
   ]
  },
  {
   "cell_type": "markdown",
   "id": "8b562820",
   "metadata": {},
   "source": [
    "### Q4. Identify the extreme weights from the given list of weights using the interquartile range. \n",
    "- Consider the weights (in kg) of 10 students as given below:\n",
    "- weight = [14.7, 15.2, 39.8, 44.5, 21.2, 28.5, 35.2, 19.7, 40.4, 16.5]\n",
    "\n"
   ]
  },
  {
   "cell_type": "code",
   "execution_count": 5,
   "id": "8ffb5b41",
   "metadata": {},
   "outputs": [
    {
     "data": {
      "text/plain": [
       "Series([], dtype: float64)"
      ]
     },
     "execution_count": 5,
     "metadata": {},
     "output_type": "execute_result"
    }
   ],
   "source": [
    "weight = pd.Series([14.7, 15.2, 39.8, 44.5, 21.2, 28.5, 35.2, 19.7, 40.4, 16.5])\n",
    "Q1 = weight.quantile(0.25)\n",
    "Q3 = weight.quantile(0.75)\n",
    "IQR = Q3 - Q1\n",
    "upper_limit = Q3 + 1.5 * IQR\n",
    "lower_limit = Q1 - 1.5 * IQR\n",
    "outliers = weight[(weight>upper_limit)|(weight<lower_limit)]\n",
    "outliers"
   ]
  },
  {
   "cell_type": "markdown",
   "id": "37c3659a",
   "metadata": {},
   "source": [
    "### Q5. A car showroom in Ohio exhibits a total of 12 cars of different brands. Identify the type of skewness in the showroom prices of cars.\n",
    "- Consider the prices (in dollars) for 12 cars as given below:\n",
    "- price = [14751, 16422, 15398, 9445, 12589, 11687, 10692, 8475, 11184, 9961, 12898, 11905]\n"
   ]
  },
  {
   "cell_type": "code",
   "execution_count": 6,
   "id": "d1b981c5",
   "metadata": {},
   "outputs": [
    {
     "name": "stdout",
     "output_type": "stream",
     "text": [
      "Skewness is  0.41329390884304773 . Hence, it is right-skewed distribution.\n"
     ]
    }
   ],
   "source": [
    "price = pd.Series([14751, 16422, 15398, 9445, 12589, 11687, 10692, 8475, 11184, 9961, 12898, 11905])\n",
    "# formula for skewness coefficient = 3*(x_bar-mu)/std_dev\n",
    "x_bar = np.mean(price)\n",
    "mu = np.median(price)\n",
    "std_dev = np.std(price)\n",
    "\n",
    "skewness = 3*(x_bar-mu)/std_dev\n",
    "#skewness indicates a right-skewed distribution, while negative skewness indicates a left-skewed distribution.\n",
    "if skewness > 0:\n",
    "    print(\"Skewness is \",skewness,\". Hence, it is right-skewed distribution.\")\n",
    "elif skewness==0:\n",
    "    print(\"Skewness is \",skewness,\". Hence, it is perfectly symmetrical distribution.\")\n",
    "else:\n",
    "    print(\"Skewness is \",skewness,\". Hence, it is left-skewed distribution.\")"
   ]
  },
  {
   "cell_type": "markdown",
   "id": "52fe8acf",
   "metadata": {},
   "source": [
    "### Q6. A company offers its customers to take a vehicle and an educational loan. A study shows that the probability that a customer takes a vehicle loan is 0.35, the probability that a customer takes an educational loan is 0.46 and the probability that a customer takes at least one of the loan is 0.59. Find the probability that a customer takes both vehicle and educational loans."
   ]
  },
  {
   "cell_type": "code",
   "execution_count": 7,
   "id": "d350bd56",
   "metadata": {},
   "outputs": [
    {
     "name": "stdout",
     "output_type": "stream",
     "text": [
      "Probability that customer takes both loan is  0.22000000000000008\n"
     ]
    }
   ],
   "source": [
    "prob_veh = 0.35\n",
    "prob_ed = 0.46\n",
    "prob_ed_or_veh = 0.59\n",
    "# Probability of both loans P(prob_veh & prob_veh) = P(prob_veh) + P(prob_ed) - P(prob_ed_or_veh)\n",
    "prob_veh_ed = prob_veh + prob_ed -prob_ed_or_veh\n",
    "print(\"Probability that customer takes both loan is \",prob_veh_ed)"
   ]
  },
  {
   "cell_type": "markdown",
   "id": "0b89b197",
   "metadata": {},
   "source": [
    "### Q7. Consider two independent events X and Y. If the probability of occurrence of event X is 0.4 and the probability of occurrence of at least one event is 0.6. Find the probability of occurrence of event Y. "
   ]
  },
  {
   "cell_type": "code",
   "execution_count": 9,
   "id": "258149e8",
   "metadata": {},
   "outputs": [
    {
     "name": "stdout",
     "output_type": "stream",
     "text": [
      "Probability of Y:  0.33333333333333326\n"
     ]
    }
   ],
   "source": [
    "prob_X = 0.4\n",
    "prob_X_or_Y = 0.6\n",
    "# P(X&Y) = P(X)*P(Y)\n",
    "#P(X or Y) = P(X)+P(Y)-P(X&Y)\n",
    "\n",
    "prob_Y = (prob_X_or_Y - prob_X)/(1-prob_X)\n",
    "print(\"Probability of Y: \", prob_Y)\n"
   ]
  },
  {
   "cell_type": "markdown",
   "id": "d9973216",
   "metadata": {},
   "source": [
    "### Q8. Consider a vending machine containing 6 boxes each of four different juice flavors (Mango, Apple, Guava and Kiwi). Find the probability that the juice box picked is either of Mango or Guava flavor. "
   ]
  },
  {
   "cell_type": "code",
   "execution_count": 12,
   "id": "3ec8c7c4",
   "metadata": {},
   "outputs": [
    {
     "name": "stdout",
     "output_type": "stream",
     "text": [
      "probability that the juice box picked is either of Mango or Guava flavor is :  0.5\n"
     ]
    }
   ],
   "source": [
    "box = 6 \n",
    "flavour = 4\n",
    "t_box = box * flavour\n",
    "# p(M or G) = p(M) + P(G)\n",
    "M = box/t_box\n",
    "G = box/t_box\n",
    "total_prob = M + G\n",
    "print(\"probability that the juice box picked is either of Mango or Guava flavor is : \",total_prob)"
   ]
  },
  {
   "cell_type": "markdown",
   "id": "d87b34b9",
   "metadata": {},
   "source": [
    "### Q9. Consider a student appearing for 3 different exams either pass or fail in each exam. Let a marginal probability of a student passing the Economics, Mathematics and German exam be 0.67. The probability that the student fails in the Economics exam is 0.10 and the probability that the student fails in the German exam is 0.09. Find the probability that a student fails in the Mathematics exam.\n",
    "\n",
    "-Consider a discrete variable X denoting the passing or failing of an exam and a discrete variable Y denoting the three subjects of the exam. The sum of marginal probabilities of X (or Y) should be always equal to 1.\n",
    "\n"
   ]
  },
  {
   "cell_type": "code",
   "execution_count": 13,
   "id": "f2dae634",
   "metadata": {},
   "outputs": [
    {
     "name": "stdout",
     "output_type": "stream",
     "text": [
      "probability that a student fails in the Mathematics exam is :  0.13999999999999996\n"
     ]
    }
   ],
   "source": [
    "MP_pass_EMG = 0.67\n",
    "MP_fail_EMG = 1 - MP_pass_EMG\n",
    "P_fail_E = 0.10\n",
    "P_fail_G = 0.09\n",
    "# total_mp_fail = mg_fail_E +mg_fail_M +mg_fail_G\n",
    "P_fail_M = MP_fail_EMG - P_fail_E - P_fail_G\n",
    "print(\"probability that a student fails in the Mathematics exam is : \",P_fail_M)"
   ]
  },
  {
   "cell_type": "markdown",
   "id": "d4944b8d",
   "metadata": {},
   "source": [
    "### Q10. The probabilities that a machine will produce 2, 5, 7, 9 defective batteries in a day are 0.3, 0.22, 0.15, 0.1 respectively. Find the expected number of defective batteries produced in a day. \n",
    "\n"
   ]
  },
  {
   "cell_type": "code",
   "execution_count": 14,
   "id": "a1e8f8a9",
   "metadata": {},
   "outputs": [
    {
     "name": "stdout",
     "output_type": "stream",
     "text": [
      "expected number of defective batteries produced in a day:  3.65\n"
     ]
    }
   ],
   "source": [
    "P_2 = 0.3\n",
    "P_5 = 0.22\n",
    "P_7 = 0.15\n",
    "P_9 = 0.1\n",
    "# Expected number od defective batteries = (2*P_2) + (5*P_5) + (7*P_7) + (9*P_9)\n",
    "total_defect_batteries = (2*P_2) + (5*P_5) + (7*P_7) + (9*P_9)\n",
    "print(\"expected number of defective batteries produced in a day: \",total_defect_batteries)"
   ]
  },
  {
   "cell_type": "markdown",
   "id": "90c7b906",
   "metadata": {},
   "source": [
    "### Q11. In a pack of 52 cards, what is the probability of selecting a red card? "
   ]
  },
  {
   "cell_type": "code",
   "execution_count": 15,
   "id": "e50e4ebb",
   "metadata": {},
   "outputs": [
    {
     "name": "stdout",
     "output_type": "stream",
     "text": [
      " the probability of selecting a red card is:  0.5\n"
     ]
    }
   ],
   "source": [
    "total_red = 26   #-------> 13 diamonds & 13 hearts\n",
    "total_card = 52\n",
    "prob_red = (total_red/total_card)\n",
    "print(\" the probability of selecting a red card is: \", prob_red)\n",
    "\n"
   ]
  },
  {
   "cell_type": "markdown",
   "id": "179c30f6",
   "metadata": {},
   "source": [
    "### Q12. From the experience, it is seen that 4% of the tyres produced by the machine are defective. Out of the 10 tyres produced, find the probability that at most 3 are defective. \n",
    "\n"
   ]
  },
  {
   "cell_type": "code",
   "execution_count": 21,
   "id": "2ae0f06c",
   "metadata": {},
   "outputs": [
    {
     "name": "stdout",
     "output_type": "stream",
     "text": [
      "the probability that at most 3 are defective is:  0.9995574006399999\n"
     ]
    }
   ],
   "source": [
    "prob_flat = 0.04\n",
    "no_tyre = 10\n",
    "from scipy.stats import binom\n",
    "req_prob = binom.cdf(3,no_tyre,prob_flat)\n",
    "print(\"the probability that at most 3 are defective is: \", req_prob)"
   ]
  },
  {
   "cell_type": "markdown",
   "id": "db7dc5df",
   "metadata": {},
   "source": [
    "### Q13. The number of trucks crossing a bridge during the day follow a Poisson distribution with mean 18. What is the probability that on a randomly selected day 12 trucks would have crossed the bridge? \n",
    "\n"
   ]
  },
  {
   "cell_type": "code",
   "execution_count": 25,
   "id": "4fcea80d",
   "metadata": {},
   "outputs": [
    {
     "name": "stdout",
     "output_type": "stream",
     "text": [
      "the probability that on a randomly selected day 12 trucks would have crossed the bridge:  0.03678175293604137\n"
     ]
    }
   ],
   "source": [
    "from scipy.stats import poisson\n",
    "req_prob = poisson.pmf(12,18)\n",
    "print(\"the probability that on a randomly selected day 12 trucks would have crossed the bridge: \",req_prob)"
   ]
  },
  {
   "cell_type": "markdown",
   "id": "3390a402",
   "metadata": {},
   "source": [
    "### Q14. A random variable follows uniform distribution in the interval 5 to 10. Obtain the mean and variance. \n",
    "\n"
   ]
  },
  {
   "cell_type": "code",
   "execution_count": 27,
   "id": "56c175bb",
   "metadata": {},
   "outputs": [
    {
     "name": "stdout",
     "output_type": "stream",
     "text": [
      "Mean:  2.5\n",
      "Variance:  2.0833333333333335\n"
     ]
    }
   ],
   "source": [
    "upper_limit = 10\n",
    "lower_limit = 5\n",
    "var = (upper_limit - lower_limit)**2/12\n",
    "mean = (upper_limit - lower_limit)/2\n",
    "print(\"Mean: \", mean)\n",
    "print(\"Variance: \", var)\n"
   ]
  },
  {
   "cell_type": "markdown",
   "id": "f80bccbc",
   "metadata": {},
   "source": [
    "### Q15. Consider an random variable that follows normal distribution with mean 5 and variance 10 Obtain:\n",
    "1. P(X < 1)\n",
    "\n",
    "2. P(X > 5)\n",
    "\n",
    "3. P(3 < X < 7)\n",
    "\n"
   ]
  },
  {
   "cell_type": "code",
   "execution_count": 40,
   "id": "ae243df0",
   "metadata": {},
   "outputs": [
    {
     "name": "stdout",
     "output_type": "stream",
     "text": [
      "P(X < 1)=  0.1029516053660342\n",
      "P(X > 5)=  0.5\n",
      "P(3 < X < 7)=  0.36054055454430634\n"
     ]
    }
   ],
   "source": [
    "from scipy.stats import norm\n",
    "\n",
    "std_dev = np.sqrt(10)\n",
    "# 1. P(X < 1)\n",
    "prob_less_1 = norm.cdf(1,5,std_dev)\n",
    "\n",
    "\n",
    "#2. P(X > 5)\n",
    "prob_less_5 = norm.cdf(5,5,std_dev)\n",
    "prob_more_5 = 1 - prob_less_5\n",
    "\n",
    "#3.P(3 < X < 7)\n",
    "\n",
    "prob_x_3 = norm.cdf(4,5,std_dev) \n",
    "prob_x_7 = norm.cdf(7,5,std_dev) \n",
    "prob_3_x_7 = prob_x_7 - prob_x_3\n",
    "\n",
    "print(\"P(X < 1)= \",prob_less_1)\n",
    "print(\"P(X > 5)= \", prob_more_5)\n",
    "print(\"P(3 < X < 7)= \",prob_3_x_7 )"
   ]
  },
  {
   "cell_type": "code",
   "execution_count": null,
   "id": "0e164d5a",
   "metadata": {},
   "outputs": [],
   "source": []
  },
  {
   "cell_type": "code",
   "execution_count": null,
   "id": "9acd4715",
   "metadata": {},
   "outputs": [],
   "source": []
  }
 ],
 "metadata": {
  "kernelspec": {
   "display_name": "Python 3 (ipykernel)",
   "language": "python",
   "name": "python3"
  },
  "language_info": {
   "codemirror_mode": {
    "name": "ipython",
    "version": 3
   },
   "file_extension": ".py",
   "mimetype": "text/x-python",
   "name": "python",
   "nbconvert_exporter": "python",
   "pygments_lexer": "ipython3",
   "version": "3.11.5"
  }
 },
 "nbformat": 4,
 "nbformat_minor": 5
}
